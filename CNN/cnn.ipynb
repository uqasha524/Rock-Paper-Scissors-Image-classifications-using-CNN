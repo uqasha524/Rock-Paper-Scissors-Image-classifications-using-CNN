{
 "cells": [
  {
   "cell_type": "code",
   "execution_count": 2,
   "id": "b72fd0bf",
   "metadata": {},
   "outputs": [],
   "source": [
    "from tensorflow.keras.preprocessing.image import ImageDataGenerator\n",
    "from tensorflow.keras import models,layers\n",
    "from tensorflow.keras.callbacks import EarlyStopping,ModelCheckpoint\n",
    "import numpy as np\n",
    "import tensorflow as tf\n",
    "from tensorflow.keras.preprocessing import image\n",
    "\n"
   ]
  },
  {
   "cell_type": "code",
   "execution_count": 3,
   "id": "330fa4ee",
   "metadata": {},
   "outputs": [
    {
     "name": "stdout",
     "output_type": "stream",
     "text": [
      "Found 4334 images belonging to 3 classes.\n",
      "Found 105 images belonging to 3 classes.\n"
     ]
    }
   ],
   "source": [
    "train_datagen=ImageDataGenerator(rescale=1./255)\n",
    "val_datagen=ImageDataGenerator(rescale=1./255)\n",
    "\n",
    "train_gen=train_datagen.flow_from_directory(\n",
    "    r'../Dataset/train',\n",
    "    target_size=(64,64),\n",
    "    batch_size=32,\n",
    "    class_mode='categorical'\n",
    ")\n",
    "\n",
    "val_gen=val_datagen.flow_from_directory(\n",
    "    r'../Dataset/validation',\n",
    "    target_size=(64,64),\n",
    "    batch_size=32,\n",
    "    class_mode='categorical'\n",
    ")"
   ]
  },
  {
   "cell_type": "code",
   "execution_count": 27,
   "id": "0e8e3982",
   "metadata": {},
   "outputs": [],
   "source": [
    "cnn=models.Sequential([\n",
    "    layers.Conv2D(32,(3,3),activation='relu',input_shape=(64,64,3)),\n",
    "    layers.BatchNormalization(),\n",
    "    layers.MaxPooling2D(2, 2),\n",
    "\n",
    "    layers.Conv2D(64,(3,3),activation='relu'),\n",
    "    layers.BatchNormalization(),\n",
    "    layers.MaxPooling2D(2, 2),\n",
    "\n",
    "    layers.Conv2D(128,(3,3),activation='relu'),\n",
    "    layers.BatchNormalization(),\n",
    "    layers.MaxPooling2D(2, 2),\n",
    "\n",
    "    layers.Conv2D(256,(3,3),activation='relu'),\n",
    "    layers.BatchNormalization(),\n",
    "    layers.MaxPooling2D(2, 2),\n",
    "\n",
    "    layers.Flatten(),\n",
    "\n",
    "    layers.Dense(128,activation='relu'),\n",
    "    layers.BatchNormalization(),\n",
    "\n",
    "    layers.Dense(64,activation='relu'),\n",
    "    layers.BatchNormalization(),\n",
    "\n",
    "    layers.Dense(3,activation='softmax')\n",
    "])"
   ]
  },
  {
   "cell_type": "code",
   "execution_count": 28,
   "id": "9e3fbab2",
   "metadata": {},
   "outputs": [],
   "source": [
    "cnn.compile(\n",
    "    optimizer='adamW',\n",
    "    loss='categorical_crossentropy',\n",
    "    metrics=['accuracy']\n",
    ")\n"
   ]
  },
  {
   "cell_type": "code",
   "execution_count": 29,
   "id": "7b6180d1",
   "metadata": {},
   "outputs": [
    {
     "name": "stdout",
     "output_type": "stream",
     "text": [
      "Epoch 1/20\n",
      "\u001b[1m136/136\u001b[0m \u001b[32m━━━━━━━━━━━━━━━━━━━━\u001b[0m\u001b[37m\u001b[0m \u001b[1m25s\u001b[0m 155ms/step - accuracy: 0.8771 - loss: 0.3200 - val_accuracy: 0.3333 - val_loss: 3.5814\n",
      "Epoch 2/20\n",
      "\u001b[1m136/136\u001b[0m \u001b[32m━━━━━━━━━━━━━━━━━━━━\u001b[0m\u001b[37m\u001b[0m \u001b[1m21s\u001b[0m 156ms/step - accuracy: 0.9861 - loss: 0.0430 - val_accuracy: 0.3333 - val_loss: 3.7415\n",
      "Epoch 3/20\n",
      "\u001b[1m136/136\u001b[0m \u001b[32m━━━━━━━━━━━━━━━━━━━━\u001b[0m\u001b[37m\u001b[0m \u001b[1m21s\u001b[0m 156ms/step - accuracy: 0.9876 - loss: 0.0377 - val_accuracy: 0.6095 - val_loss: 1.5215\n",
      "Epoch 4/20\n",
      "\u001b[1m136/136\u001b[0m \u001b[32m━━━━━━━━━━━━━━━━━━━━\u001b[0m\u001b[37m\u001b[0m \u001b[1m22s\u001b[0m 160ms/step - accuracy: 0.9919 - loss: 0.0240 - val_accuracy: 0.8667 - val_loss: 0.4033\n",
      "Epoch 5/20\n",
      "\u001b[1m136/136\u001b[0m \u001b[32m━━━━━━━━━━━━━━━━━━━━\u001b[0m\u001b[37m\u001b[0m \u001b[1m21s\u001b[0m 157ms/step - accuracy: 0.9930 - loss: 0.0230 - val_accuracy: 0.9905 - val_loss: 0.0224\n",
      "Epoch 6/20\n",
      "\u001b[1m136/136\u001b[0m \u001b[32m━━━━━━━━━━━━━━━━━━━━\u001b[0m\u001b[37m\u001b[0m \u001b[1m21s\u001b[0m 157ms/step - accuracy: 0.9959 - loss: 0.0131 - val_accuracy: 0.9905 - val_loss: 0.0763\n",
      "Epoch 7/20\n",
      "\u001b[1m136/136\u001b[0m \u001b[32m━━━━━━━━━━━━━━━━━━━━\u001b[0m\u001b[37m\u001b[0m \u001b[1m21s\u001b[0m 157ms/step - accuracy: 0.9978 - loss: 0.0117 - val_accuracy: 1.0000 - val_loss: 0.0159\n",
      "Epoch 8/20\n",
      "\u001b[1m136/136\u001b[0m \u001b[32m━━━━━━━━━━━━━━━━━━━━\u001b[0m\u001b[37m\u001b[0m \u001b[1m25s\u001b[0m 180ms/step - accuracy: 0.9922 - loss: 0.0176 - val_accuracy: 1.0000 - val_loss: 0.0105\n",
      "Epoch 9/20\n",
      "\u001b[1m136/136\u001b[0m \u001b[32m━━━━━━━━━━━━━━━━━━━━\u001b[0m\u001b[37m\u001b[0m \u001b[1m24s\u001b[0m 175ms/step - accuracy: 0.9966 - loss: 0.0092 - val_accuracy: 1.0000 - val_loss: 0.0036\n",
      "Epoch 10/20\n",
      "\u001b[1m136/136\u001b[0m \u001b[32m━━━━━━━━━━━━━━━━━━━━\u001b[0m\u001b[37m\u001b[0m \u001b[1m22s\u001b[0m 165ms/step - accuracy: 0.9967 - loss: 0.0086 - val_accuracy: 0.9810 - val_loss: 0.0462\n",
      "Epoch 11/20\n",
      "\u001b[1m136/136\u001b[0m \u001b[32m━━━━━━━━━━━━━━━━━━━━\u001b[0m\u001b[37m\u001b[0m \u001b[1m22s\u001b[0m 161ms/step - accuracy: 0.9973 - loss: 0.0127 - val_accuracy: 0.9810 - val_loss: 0.0549\n",
      "Epoch 12/20\n",
      "\u001b[1m136/136\u001b[0m \u001b[32m━━━━━━━━━━━━━━━━━━━━\u001b[0m\u001b[37m\u001b[0m \u001b[1m21s\u001b[0m 158ms/step - accuracy: 0.9996 - loss: 0.0021 - val_accuracy: 0.9714 - val_loss: 0.0678\n",
      "Epoch 13/20\n",
      "\u001b[1m136/136\u001b[0m \u001b[32m━━━━━━━━━━━━━━━━━━━━\u001b[0m\u001b[37m\u001b[0m \u001b[1m22s\u001b[0m 158ms/step - accuracy: 0.9934 - loss: 0.0209 - val_accuracy: 0.9429 - val_loss: 0.1372\n",
      "Epoch 14/20\n",
      "\u001b[1m136/136\u001b[0m \u001b[32m━━━━━━━━━━━━━━━━━━━━\u001b[0m\u001b[37m\u001b[0m \u001b[1m22s\u001b[0m 160ms/step - accuracy: 0.9958 - loss: 0.0126 - val_accuracy: 1.0000 - val_loss: 0.0083\n"
     ]
    },
    {
     "data": {
      "text/plain": [
       "<keras.src.callbacks.history.History at 0x24bd752ded0>"
      ]
     },
     "execution_count": 29,
     "metadata": {},
     "output_type": "execute_result"
    }
   ],
   "source": [
    "early = EarlyStopping(monitor='val_loss', patience=5, restore_best_weights=True)\n",
    "\n",
    "cnn.fit(\n",
    "    train_gen,\n",
    "    validation_data=val_gen,\n",
    "    epochs=20,\n",
    "    callbacks=[early]\n",
    ")"
   ]
  },
  {
   "cell_type": "code",
   "execution_count": 43,
   "id": "c9367826",
   "metadata": {},
   "outputs": [],
   "source": [
    "models.save_model(cnn,\"cnn.keras\")"
   ]
  },
  {
   "cell_type": "code",
   "execution_count": 44,
   "id": "7dd8940d",
   "metadata": {},
   "outputs": [
    {
     "name": "stdout",
     "output_type": "stream",
     "text": [
      "Found 698 images belonging to 3 classes.\n"
     ]
    }
   ],
   "source": [
    "test_datagen = ImageDataGenerator(rescale=1./255)\n",
    "\n",
    "test_gen = test_datagen.flow_from_directory(\n",
    "    '../Dataset/test',\n",
    "    target_size=(64, 64),\n",
    "    batch_size=32,\n",
    "    class_mode='categorical',\n",
    "    shuffle=False  \n",
    ")\n"
   ]
  },
  {
   "cell_type": "code",
   "execution_count": 48,
   "id": "df597595",
   "metadata": {},
   "outputs": [],
   "source": [
    "cnn_model=models.load_model('cnn.keras')"
   ]
  },
  {
   "cell_type": "code",
   "execution_count": null,
   "id": "8b0810b4",
   "metadata": {},
   "outputs": [
    {
     "name": "stdout",
     "output_type": "stream",
     "text": [
      "\u001b[1m22/22\u001b[0m \u001b[32m━━━━━━━━━━━━━━━━━━━━\u001b[0m\u001b[37m\u001b[0m \u001b[1m2s\u001b[0m 81ms/step\n",
      " Test Accuracy: 0.8625\n"
     ]
    },
    {
     "data": {
      "image/png": "[encoded data removed]",
      "text/plain": [
       "<Figure size 500x400 with 2 Axes>"
      ]
     },
     "metadata": {},
     "output_type": "display_data"
    },
    {
     "name": "stdout",
     "output_type": "stream",
     "text": [
      "              precision    recall  f1-score   support\n",
      "\n",
      "       paper       0.77      0.91      0.83       232\n",
      "        rock       0.98      0.89      0.93       233\n",
      "    scissors       0.87      0.79      0.83       233\n",
      "\n",
      "    accuracy                           0.86       698\n",
      "   macro avg       0.87      0.86      0.86       698\n",
      "weighted avg       0.87      0.86      0.86       698\n",
      "\n"
     ]
    }
   ],
   "source": [
    "from sklearn.metrics import classification_report, confusion_matrix\n",
    "\n",
    "# Predict\n",
    "y_pred = cnn_model.predict(test_gen)\n",
    "y_pred_classes = y_pred.argmax(axis=1)\n",
    "\n",
    "# True labels\n",
    "y_true = test_gen.classes\n",
    "\n",
    "# Accuracy\n",
    "from sklearn.metrics import accuracy_score\n",
    "acc = accuracy_score(y_true, y_pred_classes)\n",
    "print(f\" Test Accuracy: {acc:.4f}\")\n",
    "\n",
    "# Confusion matrix\n",
    "import seaborn as sns\n",
    "import matplotlib.pyplot as plt\n",
    "\n",
    "cm = confusion_matrix(y_true, y_pred_classes)\n",
    "plt.figure(figsize=(5, 4))\n",
    "sns.heatmap(cm, annot=True, fmt='d', cmap='Blues')\n",
    "plt.xlabel(\"Predicted\")\n",
    "plt.ylabel(\"Actual\")\n",
    "plt.title(\"Confusion Matrix on Test Data\")\n",
    "plt.show()\n",
    "\n",
    "# Classification report\n",
    "target_names = list(test_gen.class_indices.keys())\n",
    "print(classification_report(y_true, y_pred_classes, target_names=target_names))\n"
   ]
  },
  {
   "cell_type": "code",
   "execution_count": 50,
   "id": "2a5e4689",
   "metadata": {},
   "outputs": [
    {
     "name": "stderr",
     "output_type": "stream",
     "text": [
      "d:\\Anaconda\\envs\\dl_py\\lib\\site-packages\\keras\\src\\layers\\convolutional\\base_conv.py:113: UserWarning: Do not pass an `input_shape`/`input_dim` argument to a layer. When using Sequential models, prefer using an `Input(shape)` object as the first layer in the model instead.\n",
      "  super().__init__(activity_regularizer=activity_regularizer, **kwargs)\n"
     ]
    }
   ],
   "source": [
    "cnn_1=models.Sequential([\n",
    "    layers.Conv2D(32,(3,3),activation='relu',input_shape=(64,64,3)),\n",
    "    layers.BatchNormalization(),\n",
    "    layers.MaxPooling2D(2, 2),\n",
    "\n",
    "    layers.Conv2D(64,(3,3),activation='relu'),\n",
    "    layers.BatchNormalization(),\n",
    "    layers.MaxPooling2D(2, 2),\n",
    "\n",
    "    layers.Conv2D(128,(3,3),activation='relu'),\n",
    "    layers.BatchNormalization(),\n",
    "    layers.MaxPooling2D(2, 2),\n",
    "\n",
    "    layers.Conv2D(256,(3,3),activation='relu'),\n",
    "    layers.BatchNormalization(),\n",
    "    layers.MaxPooling2D(2, 2),\n",
    "\n",
    "    layers.Flatten(),\n",
    "\n",
    "    layers.Dense(256,activation='relu'),\n",
    "    layers.BatchNormalization(),\n",
    "\n",
    "    layers.Dense(128,activation='relu'),\n",
    "    layers.BatchNormalization(),\n",
    "\n",
    "    layers.Dense(64,activation='relu'),\n",
    "    layers.BatchNormalization(),\n",
    "\n",
    "    layers.Dense(3,activation='softmax')\n",
    "])"
   ]
  },
  {
   "cell_type": "code",
   "execution_count": 51,
   "id": "9b86ac94",
   "metadata": {},
   "outputs": [],
   "source": [
    "cnn_1.compile(\n",
    "    optimizer='adamW',\n",
    "    loss='categorical_crossentropy',\n",
    "    metrics=['accuracy']\n",
    ")\n"
   ]
  },
  {
   "cell_type": "code",
   "execution_count": 52,
   "id": "073277a9",
   "metadata": {},
   "outputs": [
    {
     "name": "stdout",
     "output_type": "stream",
     "text": [
      "Epoch 1/20\n",
      "\u001b[1m136/136\u001b[0m \u001b[32m━━━━━━━━━━━━━━━━━━━━\u001b[0m\u001b[37m\u001b[0m \u001b[1m55s\u001b[0m 374ms/step - accuracy: 0.8529 - loss: 0.3897 - val_accuracy: 0.3333 - val_loss: 2.7609\n",
      "Epoch 2/20\n",
      "\u001b[1m136/136\u001b[0m \u001b[32m━━━━━━━━━━━━━━━━━━━━\u001b[0m\u001b[37m\u001b[0m \u001b[1m20s\u001b[0m 150ms/step - accuracy: 0.9869 - loss: 0.0479 - val_accuracy: 0.3333 - val_loss: 4.2042\n",
      "Epoch 3/20\n",
      "\u001b[1m136/136\u001b[0m \u001b[32m━━━━━━━━━━━━━━━━━━━━\u001b[0m\u001b[37m\u001b[0m \u001b[1m21s\u001b[0m 155ms/step - accuracy: 0.9924 - loss: 0.0278 - val_accuracy: 0.3810 - val_loss: 2.9114\n",
      "Epoch 4/20\n",
      "\u001b[1m136/136\u001b[0m \u001b[32m━━━━━━━━━━━━━━━━━━━━\u001b[0m\u001b[37m\u001b[0m \u001b[1m21s\u001b[0m 154ms/step - accuracy: 0.9776 - loss: 0.0701 - val_accuracy: 0.8476 - val_loss: 0.4907\n",
      "Epoch 5/20\n",
      "\u001b[1m136/136\u001b[0m \u001b[32m━━━━━━━━━━━━━━━━━━━━\u001b[0m\u001b[37m\u001b[0m \u001b[1m24s\u001b[0m 175ms/step - accuracy: 0.9938 - loss: 0.0227 - val_accuracy: 0.9429 - val_loss: 0.1168\n",
      "Epoch 6/20\n",
      "\u001b[1m136/136\u001b[0m \u001b[32m━━━━━━━━━━━━━━━━━━━━\u001b[0m\u001b[37m\u001b[0m \u001b[1m24s\u001b[0m 174ms/step - accuracy: 0.9937 - loss: 0.0184 - val_accuracy: 0.8762 - val_loss: 0.3613\n",
      "Epoch 7/20\n",
      "\u001b[1m136/136\u001b[0m \u001b[32m━━━━━━━━━━━━━━━━━━━━\u001b[0m\u001b[37m\u001b[0m \u001b[1m24s\u001b[0m 172ms/step - accuracy: 0.9940 - loss: 0.0193 - val_accuracy: 0.8952 - val_loss: 0.2594\n",
      "Epoch 8/20\n",
      "\u001b[1m136/136\u001b[0m \u001b[32m━━━━━━━━━━━━━━━━━━━━\u001b[0m\u001b[37m\u001b[0m \u001b[1m22s\u001b[0m 162ms/step - accuracy: 0.9956 - loss: 0.0143 - val_accuracy: 0.9429 - val_loss: 0.1386\n",
      "Epoch 9/20\n",
      "\u001b[1m136/136\u001b[0m \u001b[32m━━━━━━━━━━━━━━━━━━━━\u001b[0m\u001b[37m\u001b[0m \u001b[1m22s\u001b[0m 163ms/step - accuracy: 0.9955 - loss: 0.0143 - val_accuracy: 0.4286 - val_loss: 3.4823\n",
      "Epoch 10/20\n",
      "\u001b[1m136/136\u001b[0m \u001b[32m━━━━━━━━━━━━━━━━━━━━\u001b[0m\u001b[37m\u001b[0m \u001b[1m22s\u001b[0m 161ms/step - accuracy: 0.9962 - loss: 0.0132 - val_accuracy: 0.9810 - val_loss: 0.0500\n",
      "Epoch 11/20\n",
      "\u001b[1m136/136\u001b[0m \u001b[32m━━━━━━━━━━━━━━━━━━━━\u001b[0m\u001b[37m\u001b[0m \u001b[1m22s\u001b[0m 162ms/step - accuracy: 0.9997 - loss: 0.0026 - val_accuracy: 0.9810 - val_loss: 0.0425\n",
      "Epoch 12/20\n",
      "\u001b[1m136/136\u001b[0m \u001b[32m━━━━━━━━━━━━━━━━━━━━\u001b[0m\u001b[37m\u001b[0m \u001b[1m24s\u001b[0m 174ms/step - accuracy: 0.9989 - loss: 0.0058 - val_accuracy: 0.9429 - val_loss: 0.1236\n",
      "Epoch 13/20\n",
      "\u001b[1m136/136\u001b[0m \u001b[32m━━━━━━━━━━━━━━━━━━━━\u001b[0m\u001b[37m\u001b[0m \u001b[1m24s\u001b[0m 178ms/step - accuracy: 0.9989 - loss: 0.0032 - val_accuracy: 0.8857 - val_loss: 0.3511\n",
      "Epoch 14/20\n",
      "\u001b[1m136/136\u001b[0m \u001b[32m━━━━━━━━━━━━━━━━━━━━\u001b[0m\u001b[37m\u001b[0m \u001b[1m22s\u001b[0m 164ms/step - accuracy: 0.9993 - loss: 0.0022 - val_accuracy: 0.9619 - val_loss: 0.1158\n",
      "Epoch 15/20\n",
      "\u001b[1m136/136\u001b[0m \u001b[32m━━━━━━━━━━━━━━━━━━━━\u001b[0m\u001b[37m\u001b[0m \u001b[1m22s\u001b[0m 164ms/step - accuracy: 0.9980 - loss: 0.0082 - val_accuracy: 0.9810 - val_loss: 0.0558\n",
      "Epoch 16/20\n",
      "\u001b[1m136/136\u001b[0m \u001b[32m━━━━━━━━━━━━━━━━━━━━\u001b[0m\u001b[37m\u001b[0m \u001b[1m22s\u001b[0m 162ms/step - accuracy: 0.9851 - loss: 0.0425 - val_accuracy: 0.9524 - val_loss: 0.1885\n"
     ]
    },
    {
     "data": {
      "text/plain": [
       "<keras.src.callbacks.history.History at 0x24bfbd842b0>"
      ]
     },
     "execution_count": 52,
     "metadata": {},
     "output_type": "execute_result"
    }
   ],
   "source": [
    "early = EarlyStopping(monitor='val_loss', patience=5, restore_best_weights=True)\n",
    "\n",
    "cnn_1.fit(\n",
    "    train_gen,\n",
    "    validation_data=val_gen,\n",
    "    epochs=20,\n",
    "    callbacks=[early]\n",
    ")"
   ]
  },
  {
   "cell_type": "code",
   "execution_count": 100,
   "id": "3dc2ee0c",
   "metadata": {},
   "outputs": [
    {
     "name": "stdout",
     "output_type": "stream",
     "text": [
      "\u001b[1m22/22\u001b[0m \u001b[32m━━━━━━━━━━━━━━━━━━━━\u001b[0m\u001b[37m\u001b[0m \u001b[1m2s\u001b[0m 73ms/step\n",
      " Test Accuracy: 0.9814\n"
     ]
    },
    {
     "data": {
      "image/png": "[encoded data removed]",
      "text/plain": [
       "<Figure size 500x400 with 2 Axes>"
      ]
     },
     "metadata": {},
     "output_type": "display_data"
    },
    {
     "name": "stdout",
     "output_type": "stream",
     "text": [
      "              precision    recall  f1-score   support\n",
      "\n",
      "       paper       0.97      0.97      0.97       232\n",
      "        rock       1.00      1.00      1.00       233\n",
      "    scissors       0.97      0.97      0.97       233\n",
      "\n",
      "    accuracy                           0.98       698\n",
      "   macro avg       0.98      0.98      0.98       698\n",
      "weighted avg       0.98      0.98      0.98       698\n",
      "\n"
     ]
    }
   ],
   "source": [
    "from sklearn.metrics import classification_report, confusion_matrix\n",
    "\n",
    "# Predict\n",
    "y_pred = cnn_1.predict(test_gen)\n",
    "y_pred_classes = y_pred.argmax(axis=1)\n",
    "\n",
    "# True labels\n",
    "y_true = test_gen.classes\n",
    "\n",
    "# Accuracy\n",
    "from sklearn.metrics import accuracy_score\n",
    "acc = accuracy_score(y_true, y_pred_classes)\n",
    "print(f\" Test Accuracy: {acc:.4f}\")\n",
    "\n",
    "# Confusion matrix\n",
    "import seaborn as sns\n",
    "import matplotlib.pyplot as plt\n",
    "\n",
    "cm = confusion_matrix(y_true, y_pred_classes)\n",
    "plt.figure(figsize=(5, 4))\n",
    "sns.heatmap(cm, annot=True, fmt='d', cmap='Blues')\n",
    "plt.xlabel(\"Predicted\")\n",
    "plt.ylabel(\"Actual\")\n",
    "plt.title(\"Confusion Matrix on Test Data\")\n",
    "plt.show()\n",
    "\n",
    "# Classification report\n",
    "target_names = list(test_gen.class_indices.keys())\n",
    "print(classification_report(y_true, y_pred_classes, target_names=target_names))\n"
   ]
  },
  {
   "cell_type": "code",
   "execution_count": 54,
   "id": "5cee07d3",
   "metadata": {},
   "outputs": [],
   "source": [
    "models.save_model(cnn_1,'bestest_cnn_1.keras')"
   ]
  },
  {
   "cell_type": "markdown",
   "id": "0f9406e0",
   "metadata": {},
   "source": [
    "## **Image Augmentation**\n",
    "\n",
    "Now we will apply image augmentation to artificially expand our training dataset.  \n",
    "This can help improve model generalization, increase accuracy, and potentially reduce overfitting.\n"
   ]
  },
  {
   "cell_type": "code",
   "execution_count": null,
   "id": "dc66c67a",
   "metadata": {},
   "outputs": [
    {
     "name": "stdout",
     "output_type": "stream",
     "text": [
      "Found 4334 images belonging to 3 classes.\n",
      "✅ Augmented data shape: (4500, 64, 64, 3) (4500, 3)\n"
     ]
    }
   ],
   "source": [
    "img_size = (64, 64)\n",
    "batch_size = 32\n",
    "aug_per_class = 1500\n",
    "train_dir = r'..\\Dataset\\train'\n",
    "\n",
    "datagen = ImageDataGenerator(\n",
    "    rescale=1./255,\n",
    "    rotation_range=20,\n",
    "    width_shift_range=0.2,\n",
    "    height_shift_range=0.2,\n",
    "    shear_range=0.2,\n",
    "    zoom_range=0.2,\n",
    "    horizontal_flip=True,\n",
    "    fill_mode='nearest'\n",
    ")\n",
    "\n",
    "generator = datagen.flow_from_directory(\n",
    "    train_dir,\n",
    "    target_size=img_size,\n",
    "    batch_size=batch_size,\n",
    "    class_mode='categorical',\n",
    "    shuffle=True\n",
    ")\n",
    "\n",
    "x_augmented = []\n",
    "y_augmented = []\n",
    "total_generated = {class_id: 0 for class_id in range(generator.num_classes)}\n",
    "\n",
    "while not all(count >= aug_per_class for count in total_generated.values()):\n",
    "    x_batch, y_batch = next(generator)\n",
    "\n",
    "    for x, y in zip(x_batch, y_batch):\n",
    "        class_id = np.argmax(y)\n",
    "        if total_generated[class_id] < aug_per_class:\n",
    "            x_augmented.append(x)\n",
    "            y_augmented.append(y)\n",
    "            total_generated[class_id] += 1\n",
    "\n",
    "        if all(count >= aug_per_class for count in total_generated.values()):\n",
    "            break\n",
    "\n",
    "x_augmented = np.array(x_augmented)\n",
    "y_augmented = np.array(y_augmented)\n",
    "\n",
    "print(\" Augmented data shape:\", x_augmented.shape, y_augmented.shape)\n"
   ]
  },
  {
   "cell_type": "code",
   "execution_count": 43,
   "id": "2ea50916",
   "metadata": {},
   "outputs": [],
   "source": [
    "cnn_2=models.Sequential([\n",
    "    layers.Conv2D(32,(3,3),activation='relu',input_shape=(64,64,3)),\n",
    "    layers.BatchNormalization(),\n",
    "    layers.MaxPooling2D(2, 2),\n",
    "\n",
    "    layers.Conv2D(64,(3,3),activation='relu'),\n",
    "    layers.BatchNormalization(),\n",
    "    layers.MaxPooling2D(2, 2),\n",
    "\n",
    "    layers.Conv2D(128,(3,3),activation='relu'),\n",
    "    layers.BatchNormalization(),\n",
    "    layers.MaxPooling2D(2, 2),\n",
    "\n",
    "    layers.Conv2D(256,(3,3),activation='relu'),\n",
    "    layers.BatchNormalization(),\n",
    "\n",
    "    layers.Conv2D(512,(3,3),activation='relu'),\n",
    "    layers.BatchNormalization(),\n",
    "    layers.MaxPooling2D(2, 2),\n",
    "\n",
    "    layers.Flatten(),\n",
    "\n",
    "    layers.Dense(128,activation='relu'),\n",
    "    layers.BatchNormalization(),\n",
    "\n",
    "    layers.Dense(64,activation='relu'),\n",
    "    layers.BatchNormalization(),\n",
    "\n",
    "    layers.Dense(3,activation='softmax')\n",
    "])"
   ]
  },
  {
   "cell_type": "code",
   "execution_count": 44,
   "id": "4057b6c5",
   "metadata": {},
   "outputs": [],
   "source": [
    "cnn_2.compile(\n",
    "    optimizer='adamW',\n",
    "    loss='categorical_crossentropy',\n",
    "    metrics=['accuracy']\n",
    ")\n"
   ]
  },
  {
   "cell_type": "code",
   "execution_count": 45,
   "id": "a7627f92",
   "metadata": {},
   "outputs": [],
   "source": [
    "checkpoint = ModelCheckpoint(\n",
    "    filepath='best_model.keras',      \n",
    "    monitor='val_accuracy',               \n",
    "    save_best_only=True,              \n",
    "    save_weights_only=False,          \n",
    "    verbose=1                         \n",
    ")\n"
   ]
  },
  {
   "cell_type": "code",
   "execution_count": 46,
   "id": "cbecc44d",
   "metadata": {},
   "outputs": [
    {
     "name": "stdout",
     "output_type": "stream",
     "text": [
      "Epoch 1/20\n",
      "\u001b[1m136/136\u001b[0m \u001b[32m━━━━━━━━━━━━━━━━━━━━\u001b[0m\u001b[37m\u001b[0m \u001b[1m0s\u001b[0m 258ms/step - accuracy: 0.8831 - loss: 0.3150\n",
      "Epoch 1: val_accuracy improved from -inf to 0.33333, saving model to best_model.keras\n",
      "\u001b[1m136/136\u001b[0m \u001b[32m━━━━━━━━━━━━━━━━━━━━\u001b[0m\u001b[37m\u001b[0m \u001b[1m43s\u001b[0m 269ms/step - accuracy: 0.8835 - loss: 0.3138 - val_accuracy: 0.3333 - val_loss: 2.0882\n",
      "Epoch 2/20\n",
      "\u001b[1m136/136\u001b[0m \u001b[32m━━━━━━━━━━━━━━━━━━━━\u001b[0m\u001b[37m\u001b[0m \u001b[1m0s\u001b[0m 257ms/step - accuracy: 0.9861 - loss: 0.0439\n",
      "Epoch 2: val_accuracy did not improve from 0.33333\n",
      "\u001b[1m136/136\u001b[0m \u001b[32m━━━━━━━━━━━━━━━━━━━━\u001b[0m\u001b[37m\u001b[0m \u001b[1m36s\u001b[0m 261ms/step - accuracy: 0.9861 - loss: 0.0440 - val_accuracy: 0.3333 - val_loss: 2.9593\n",
      "Epoch 3/20\n",
      "\u001b[1m136/136\u001b[0m \u001b[32m━━━━━━━━━━━━━━━━━━━━\u001b[0m\u001b[37m\u001b[0m \u001b[1m0s\u001b[0m 252ms/step - accuracy: 0.9877 - loss: 0.0432\n",
      "Epoch 3: val_accuracy improved from 0.33333 to 0.64762, saving model to best_model.keras\n",
      "\u001b[1m136/136\u001b[0m \u001b[32m━━━━━━━━━━━━━━━━━━━━\u001b[0m\u001b[37m\u001b[0m \u001b[1m35s\u001b[0m 258ms/step - accuracy: 0.9877 - loss: 0.0431 - val_accuracy: 0.6476 - val_loss: 1.2914\n",
      "Epoch 4/20\n",
      "\u001b[1m136/136\u001b[0m \u001b[32m━━━━━━━━━━━━━━━━━━━━\u001b[0m\u001b[37m\u001b[0m \u001b[1m0s\u001b[0m 256ms/step - accuracy: 0.9973 - loss: 0.0129\n",
      "Epoch 4: val_accuracy improved from 0.64762 to 0.90476, saving model to best_model.keras\n",
      "\u001b[1m136/136\u001b[0m \u001b[32m━━━━━━━━━━━━━━━━━━━━\u001b[0m\u001b[37m\u001b[0m \u001b[1m36s\u001b[0m 262ms/step - accuracy: 0.9973 - loss: 0.0129 - val_accuracy: 0.9048 - val_loss: 0.3025\n",
      "Epoch 5/20\n",
      "\u001b[1m136/136\u001b[0m \u001b[32m━━━━━━━━━━━━━━━━━━━━\u001b[0m\u001b[37m\u001b[0m \u001b[1m0s\u001b[0m 256ms/step - accuracy: 0.9968 - loss: 0.0122\n",
      "Epoch 5: val_accuracy improved from 0.90476 to 0.93333, saving model to best_model.keras\n",
      "\u001b[1m136/136\u001b[0m \u001b[32m━━━━━━━━━━━━━━━━━━━━\u001b[0m\u001b[37m\u001b[0m \u001b[1m36s\u001b[0m 262ms/step - accuracy: 0.9968 - loss: 0.0123 - val_accuracy: 0.9333 - val_loss: 0.2021\n",
      "Epoch 6/20\n",
      "\u001b[1m136/136\u001b[0m \u001b[32m━━━━━━━━━━━━━━━━━━━━\u001b[0m\u001b[37m\u001b[0m \u001b[1m0s\u001b[0m 252ms/step - accuracy: 0.9930 - loss: 0.0208\n",
      "Epoch 6: val_accuracy improved from 0.93333 to 0.96190, saving model to best_model.keras\n",
      "\u001b[1m136/136\u001b[0m \u001b[32m━━━━━━━━━━━━━━━━━━━━\u001b[0m\u001b[37m\u001b[0m \u001b[1m35s\u001b[0m 257ms/step - accuracy: 0.9930 - loss: 0.0208 - val_accuracy: 0.9619 - val_loss: 0.1615\n",
      "Epoch 7/20\n",
      "\u001b[1m136/136\u001b[0m \u001b[32m━━━━━━━━━━━━━━━━━━━━\u001b[0m\u001b[37m\u001b[0m \u001b[1m0s\u001b[0m 243ms/step - accuracy: 0.9962 - loss: 0.0108\n",
      "Epoch 7: val_accuracy improved from 0.96190 to 0.97143, saving model to best_model.keras\n",
      "\u001b[1m136/136\u001b[0m \u001b[32m━━━━━━━━━━━━━━━━━━━━\u001b[0m\u001b[37m\u001b[0m \u001b[1m34s\u001b[0m 250ms/step - accuracy: 0.9961 - loss: 0.0109 - val_accuracy: 0.9714 - val_loss: 0.0682\n",
      "Epoch 8/20\n",
      "\u001b[1m136/136\u001b[0m \u001b[32m━━━━━━━━━━━━━━━━━━━━\u001b[0m\u001b[37m\u001b[0m \u001b[1m0s\u001b[0m 239ms/step - accuracy: 0.9942 - loss: 0.0152\n",
      "Epoch 8: val_accuracy did not improve from 0.97143\n",
      "\u001b[1m136/136\u001b[0m \u001b[32m━━━━━━━━━━━━━━━━━━━━\u001b[0m\u001b[37m\u001b[0m \u001b[1m33s\u001b[0m 244ms/step - accuracy: 0.9942 - loss: 0.0152 - val_accuracy: 0.9524 - val_loss: 0.1082\n",
      "Epoch 9/20\n",
      "\u001b[1m136/136\u001b[0m \u001b[32m━━━━━━━━━━━━━━━━━━━━\u001b[0m\u001b[37m\u001b[0m \u001b[1m0s\u001b[0m 233ms/step - accuracy: 0.9973 - loss: 0.0101\n",
      "Epoch 9: val_accuracy did not improve from 0.97143\n",
      "\u001b[1m136/136\u001b[0m \u001b[32m━━━━━━━━━━━━━━━━━━━━\u001b[0m\u001b[37m\u001b[0m \u001b[1m32s\u001b[0m 238ms/step - accuracy: 0.9973 - loss: 0.0102 - val_accuracy: 0.9143 - val_loss: 0.2862\n",
      "Epoch 10/20\n",
      "\u001b[1m136/136\u001b[0m \u001b[32m━━━━━━━━━━━━━━━━━━━━\u001b[0m\u001b[37m\u001b[0m \u001b[1m0s\u001b[0m 235ms/step - accuracy: 0.9954 - loss: 0.0176\n",
      "Epoch 10: val_accuracy did not improve from 0.97143\n",
      "\u001b[1m136/136\u001b[0m \u001b[32m━━━━━━━━━━━━━━━━━━━━\u001b[0m\u001b[37m\u001b[0m \u001b[1m33s\u001b[0m 239ms/step - accuracy: 0.9954 - loss: 0.0176 - val_accuracy: 0.9714 - val_loss: 0.0852\n",
      "Epoch 11/20\n",
      "\u001b[1m136/136\u001b[0m \u001b[32m━━━━━━━━━━━━━━━━━━━━\u001b[0m\u001b[37m\u001b[0m \u001b[1m0s\u001b[0m 236ms/step - accuracy: 0.9932 - loss: 0.0226\n",
      "Epoch 11: val_accuracy did not improve from 0.97143\n",
      "\u001b[1m136/136\u001b[0m \u001b[32m━━━━━━━━━━━━━━━━━━━━\u001b[0m\u001b[37m\u001b[0m \u001b[1m33s\u001b[0m 242ms/step - accuracy: 0.9932 - loss: 0.0226 - val_accuracy: 0.8952 - val_loss: 0.3600\n",
      "Epoch 12/20\n",
      "\u001b[1m136/136\u001b[0m \u001b[32m━━━━━━━━━━━━━━━━━━━━\u001b[0m\u001b[37m\u001b[0m \u001b[1m0s\u001b[0m 238ms/step - accuracy: 0.9983 - loss: 0.0121\n",
      "Epoch 12: val_accuracy improved from 0.97143 to 0.99048, saving model to best_model.keras\n",
      "\u001b[1m136/136\u001b[0m \u001b[32m━━━━━━━━━━━━━━━━━━━━\u001b[0m\u001b[37m\u001b[0m \u001b[1m33s\u001b[0m 245ms/step - accuracy: 0.9983 - loss: 0.0121 - val_accuracy: 0.9905 - val_loss: 0.0263\n",
      "Epoch 13/20\n",
      "\u001b[1m136/136\u001b[0m \u001b[32m━━━━━━━━━━━━━━━━━━━━\u001b[0m\u001b[37m\u001b[0m \u001b[1m0s\u001b[0m 240ms/step - accuracy: 0.9991 - loss: 0.0029\n",
      "Epoch 13: val_accuracy did not improve from 0.99048\n",
      "\u001b[1m136/136\u001b[0m \u001b[32m━━━━━━━━━━━━━━━━━━━━\u001b[0m\u001b[37m\u001b[0m \u001b[1m33s\u001b[0m 245ms/step - accuracy: 0.9990 - loss: 0.0029 - val_accuracy: 0.9524 - val_loss: 0.0648\n",
      "Epoch 14/20\n",
      "\u001b[1m136/136\u001b[0m \u001b[32m━━━━━━━━━━━━━━━━━━━━\u001b[0m\u001b[37m\u001b[0m \u001b[1m0s\u001b[0m 240ms/step - accuracy: 0.9958 - loss: 0.0149\n",
      "Epoch 14: val_accuracy did not improve from 0.99048\n",
      "\u001b[1m136/136\u001b[0m \u001b[32m━━━━━━━━━━━━━━━━━━━━\u001b[0m\u001b[37m\u001b[0m \u001b[1m33s\u001b[0m 245ms/step - accuracy: 0.9958 - loss: 0.0149 - val_accuracy: 0.9714 - val_loss: 0.0812\n",
      "Epoch 15/20\n",
      "\u001b[1m136/136\u001b[0m \u001b[32m━━━━━━━━━━━━━━━━━━━━\u001b[0m\u001b[37m\u001b[0m \u001b[1m0s\u001b[0m 239ms/step - accuracy: 0.9981 - loss: 0.0063\n",
      "Epoch 15: val_accuracy did not improve from 0.99048\n",
      "\u001b[1m136/136\u001b[0m \u001b[32m━━━━━━━━━━━━━━━━━━━━\u001b[0m\u001b[37m\u001b[0m \u001b[1m33s\u001b[0m 244ms/step - accuracy: 0.9981 - loss: 0.0063 - val_accuracy: 0.9810 - val_loss: 0.0450\n",
      "Epoch 16/20\n",
      "\u001b[1m136/136\u001b[0m \u001b[32m━━━━━━━━━━━━━━━━━━━━\u001b[0m\u001b[37m\u001b[0m \u001b[1m0s\u001b[0m 240ms/step - accuracy: 0.9962 - loss: 0.0115\n",
      "Epoch 16: val_accuracy improved from 0.99048 to 1.00000, saving model to best_model.keras\n",
      "\u001b[1m136/136\u001b[0m \u001b[32m━━━━━━━━━━━━━━━━━━━━\u001b[0m\u001b[37m\u001b[0m \u001b[1m34s\u001b[0m 248ms/step - accuracy: 0.9962 - loss: 0.0115 - val_accuracy: 1.0000 - val_loss: 0.0142\n",
      "Epoch 17/20\n",
      "\u001b[1m136/136\u001b[0m \u001b[32m━━━━━━━━━━━━━━━━━━━━\u001b[0m\u001b[37m\u001b[0m \u001b[1m0s\u001b[0m 241ms/step - accuracy: 0.9968 - loss: 0.0150\n",
      "Epoch 17: val_accuracy did not improve from 1.00000\n",
      "\u001b[1m136/136\u001b[0m \u001b[32m━━━━━━━━━━━━━━━━━━━━\u001b[0m\u001b[37m\u001b[0m \u001b[1m33s\u001b[0m 245ms/step - accuracy: 0.9968 - loss: 0.0150 - val_accuracy: 0.9048 - val_loss: 0.2565\n",
      "Epoch 18/20\n",
      "\u001b[1m136/136\u001b[0m \u001b[32m━━━━━━━━━━━━━━━━━━━━\u001b[0m\u001b[37m\u001b[0m \u001b[1m0s\u001b[0m 237ms/step - accuracy: 0.9983 - loss: 0.0062\n",
      "Epoch 18: val_accuracy did not improve from 1.00000\n",
      "\u001b[1m136/136\u001b[0m \u001b[32m━━━━━━━━━━━━━━━━━━━━\u001b[0m\u001b[37m\u001b[0m \u001b[1m33s\u001b[0m 243ms/step - accuracy: 0.9983 - loss: 0.0061 - val_accuracy: 0.9905 - val_loss: 0.0107\n",
      "Epoch 19/20\n",
      "\u001b[1m136/136\u001b[0m \u001b[32m━━━━━━━━━━━━━━━━━━━━\u001b[0m\u001b[37m\u001b[0m \u001b[1m0s\u001b[0m 239ms/step - accuracy: 0.9999 - loss: 0.0015\n",
      "Epoch 19: val_accuracy did not improve from 1.00000\n",
      "\u001b[1m136/136\u001b[0m \u001b[32m━━━━━━━━━━━━━━━━━━━━\u001b[0m\u001b[37m\u001b[0m \u001b[1m33s\u001b[0m 243ms/step - accuracy: 0.9998 - loss: 0.0015 - val_accuracy: 1.0000 - val_loss: 0.0085\n",
      "Epoch 20/20\n",
      "\u001b[1m136/136\u001b[0m \u001b[32m━━━━━━━━━━━━━━━━━━━━\u001b[0m\u001b[37m\u001b[0m \u001b[1m0s\u001b[0m 235ms/step - accuracy: 0.9984 - loss: 0.0064\n",
      "Epoch 20: val_accuracy did not improve from 1.00000\n",
      "\u001b[1m136/136\u001b[0m \u001b[32m━━━━━━━━━━━━━━━━━━━━\u001b[0m\u001b[37m\u001b[0m \u001b[1m33s\u001b[0m 240ms/step - accuracy: 0.9984 - loss: 0.0064 - val_accuracy: 0.8190 - val_loss: 0.4772\n"
     ]
    },
    {
     "data": {
      "text/plain": [
       "<keras.src.callbacks.history.History at 0x20dcc5c2860>"
      ]
     },
     "execution_count": 46,
     "metadata": {},
     "output_type": "execute_result"
    }
   ],
   "source": [
    "early = EarlyStopping(monitor='val_accuracy', patience=5, restore_best_weights=True)\n",
    "\n",
    "cnn_2.fit(\n",
    "    train_gen,\n",
    "    validation_data=val_gen,\n",
    "    epochs=20,\n",
    "    callbacks=[early,checkpoint]\n",
    ")"
   ]
  },
  {
   "cell_type": "markdown",
   "id": "1bf2865b",
   "metadata": {},
   "source": [
    "##  Augmentation Results and Model Performance\n",
    "\n",
    "After applying **image augmentation**, we significantly improved our model's performance. The training process yielded:\n",
    "\n",
    "- **Training Accuracy**: 99.98%\n",
    "- **Validation Accuracy**: 100%\n",
    "\n",
    "By further optimizing the architecture (e.g., adding more convolutional layers, batch normalization, or dropout) or increasing the number of training epochs, we successfully achieved **100% accuracy** on the validation set.\n"
   ]
  },
  {
   "cell_type": "markdown",
   "id": "d93aec7d",
   "metadata": {},
   "source": [
    "## **Real Time Predictions**"
   ]
  },
  {
   "cell_type": "code",
   "execution_count": 47,
   "id": "cc456f6d",
   "metadata": {},
   "outputs": [],
   "source": [
    "model = models.load_model(\"best_model.keras\") "
   ]
  },
  {
   "cell_type": "code",
   "execution_count": 62,
   "id": "4d5dbb41",
   "metadata": {},
   "outputs": [
    {
     "name": "stdout",
     "output_type": "stream",
     "text": [
      "\u001b[1m1/1\u001b[0m \u001b[32m━━━━━━━━━━━━━━━━━━━━\u001b[0m\u001b[37m\u001b[0m \u001b[1m0s\u001b[0m 50ms/step\n",
      " Predicted class: paper\n"
     ]
    }
   ],
   "source": [
    "class_names = ['paper', 'rock', 'scissors']\n",
    "img_size = (64, 64)\n",
    "\n",
    "try:\n",
    "    img_path = r\"C:\\Users\\dell\\Downloads\\paper.jpg\"\n",
    "    img = image.load_img(img_path, target_size=img_size)\n",
    "except FileNotFoundError:\n",
    "    img_path = r\"C:\\Users\\dell\\Downloads\\paper.png\"\n",
    "    img = image.load_img(img_path, target_size=img_size)\n",
    "\n",
    "\n",
    "img_array = image.img_to_array(img) / 255.0\n",
    "img_array = np.expand_dims(img_array, axis=0)\n",
    "\n",
    "predictions = model.predict(img_array)\n",
    "predicted_class = class_names[np.argmax(predictions)]\n",
    "\n",
    "print(f\" Predicted class: {predicted_class}\")\n"
   ]
  }
 ],
 "metadata": {
  "kernelspec": {
   "display_name": "dl_py",
   "language": "python",
   "name": "python3"
  },
  "language_info": {
   "codemirror_mode": {
    "name": "ipython",
    "version": 3
   },
   "file_extension": ".py",
   "mimetype": "text/x-python",
   "name": "python",
   "nbconvert_exporter": "python",
   "pygments_lexer": "ipython3",
   "version": "3.10.18"
  }
 },
 "nbformat": 4,
 "nbformat_minor": 5
}
